{
 "cells": [
  {
   "cell_type": "code",
   "execution_count": 50,
   "metadata": {},
   "outputs": [
    {
     "name": "stdout",
     "output_type": "stream",
     "text": [
      "piri 승\n",
      "geobuckwang 승\n",
      "geobuckwang 승\n"
     ]
    }
   ],
   "source": [
    "class monster(object):\n",
    "    def __init__(self, name, stat, types):\n",
    "        self.name = name\n",
    "        self.stat = stat\n",
    "        self.types = types\n",
    "\n",
    "def battle(x, y):\n",
    "    if(x.types == \"fire\" and y.types == \"glass\"):\n",
    "        x.stat = x.stat*1.5\n",
    "    if(x.types == \"glass\" and y.types == \"water\"):\n",
    "        x.stat = x.stat*1.5\n",
    "    if(x.types == \"water\" and y.types== \"fire\"):\n",
    "        x.stat = x.stat*1.5\n",
    "        \n",
    "    if(x.stat > y.stat):\n",
    "        print(x.name, \"승\")\n",
    "    else:\n",
    "        print(y.name, \"승\")\n",
    "        \n",
    "a = monster(\"piri\", 5, \"fire\")\n",
    "b = monster(\"isang\", 5,\"glass\")\n",
    "c = monster(\"geobuckwang\", 10, \"water\")\n",
    "        \n",
    "i = battle(a, b)\n",
    "j = battle(b, c)\n",
    "k = battle(c, a)"
   ]
  }
 ],
 "metadata": {
  "kernelspec": {
   "display_name": "Python 3",
   "language": "python",
   "name": "python3"
  },
  "language_info": {
   "codemirror_mode": {
    "name": "ipython",
    "version": 3
   },
   "file_extension": ".py",
   "mimetype": "text/x-python",
   "name": "python",
   "nbconvert_exporter": "python",
   "pygments_lexer": "ipython3",
   "version": "3.7.4"
  }
 },
 "nbformat": 4,
 "nbformat_minor": 2
}
